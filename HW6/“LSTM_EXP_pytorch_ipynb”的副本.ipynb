{
  "cells": [
    {
      "cell_type": "markdown",
      "metadata": {
        "id": "view-in-github",
        "colab_type": "text"
      },
      "source": [
        "<a href=\"https://colab.research.google.com/github/simonezxm/STAT-37601-Machine-Learning/blob/main/%E2%80%9CLSTM_EXP_pytorch_ipynb%E2%80%9D%E7%9A%84%E5%89%AF%E6%9C%AC.ipynb\" target=\"_parent\"><img src=\"https://colab.research.google.com/assets/colab-badge.svg\" alt=\"Open In Colab\"/></a>"
      ]
    },
    {
      "cell_type": "code",
      "execution_count": 194,
      "metadata": {
        "id": "bX3xGIkCftdE",
        "colab": {
          "base_uri": "https://localhost:8080/"
        },
        "outputId": "6ba7e32c-b24e-462a-d455-75b8b4af0846"
      },
      "outputs": [
        {
          "output_type": "stream",
          "name": "stdout",
          "text": [
            "Mounted at ME\n",
            "cuda:0\n"
          ]
        }
      ],
      "source": [
        "import os\n",
        "\n",
        "# Check if you're on Google drive or on your own machine.\n",
        "# Get path to your data.\n",
        "if ('google' in str(get_ipython())):\n",
        "    from google.colab import drive\n",
        "    drive.mount('ME', force_remount=True)\n",
        "    #predir='/content/ME/My Drive/'\n",
        "    predir='/content/ME/MyDrive/Machine_learning/'\n",
        "else:\n",
        "    predir='/Users/amit/Google Drive/'\n",
        "   \n",
        "import torch\n",
        "import numpy as np\n",
        "\n",
        "# Torch functions \n",
        "import torch.nn as nn\n",
        "import torch.nn.functional as F\n",
        "import torch.optim as optim\n",
        "import collections\n",
        "import pickle\n",
        "import argparse\n",
        "from random import shuffle\n",
        "import torch.nn.functional as F\n",
        "from torch.autograd import Variable\n",
        "import matplotlib.pylab  as plt\n",
        "#%matplotlib inline\n",
        "\n",
        "\n",
        "# Folder with course data\n",
        "datadir=predir\n",
        "device = torch.device(\"cuda:0\" if torch.cuda.is_available() else \"cpu\")\n",
        "\n",
        "print(device)\n",
        "import time\n",
        "import numpy as np\n",
        "\n"
      ]
    },
    {
      "cell_type": "markdown",
      "metadata": {
        "id": "2q9sgNLXftdG"
      },
      "source": [
        "# Parameters used in code"
      ]
    },
    {
      "cell_type": "code",
      "execution_count": 195,
      "metadata": {
        "id": "deeCtegmftdJ"
      },
      "outputs": [],
      "source": [
        "parser = argparse.ArgumentParser()\n",
        "parser.add_argument('--data_dir', default=datadir)\n",
        "parser.add_argument('--save_dir', default='./')\n",
        "# Dimension of hidden layer variables h and c\n",
        "parser.add_argument('--num_units', default=128*2)\n",
        "parser.add_argument('--batch_size', default=64)\n",
        "# Number of steps in each batch for training\n",
        "parser.add_argument('--num_steps', default=75)\n",
        "parser.add_argument('--num_epochs', default=3)\n",
        "# Time step\n",
        "parser.add_argument('--lr', default=0.002)\n",
        "# Number of possible inputs/outputs \n",
        "parser.add_argument('--num_chars')\n",
        "parser.add_argument('--num_batches',default=20)\n",
        "args, unparsed = parser.parse_known_args()"
      ]
    },
    {
      "cell_type": "code",
      "execution_count": 196,
      "metadata": {
        "id": "LtGD3Mv6ftdK"
      },
      "outputs": [],
      "source": [
        "def timer(start, end):\n",
        "    hrs, rem = divmod(end-start, 3600)\n",
        "    mins, secs = divmod(rem, 60)\n",
        "    print('{:0>2} hours {:0>2} minutes {:05.2f} seconds'.format(int(hrs), int(mins), secs))"
      ]
    },
    {
      "cell_type": "markdown",
      "metadata": {
        "id": "XtsOdmutftdK"
      },
      "source": [
        "# Class for handling the text data, creating vocabulary (in this case just the 65 characters). Creating batches and loading batches"
      ]
    },
    {
      "cell_type": "code",
      "execution_count": 197,
      "metadata": {
        "id": "gOcZSEkaftdK"
      },
      "outputs": [],
      "source": [
        "class TextLoader():\n",
        "\n",
        "    def __init__(self, data_dir, batch_size=64, seq_length=50, encoding='utf-8'):\n",
        "        self.data_dir = data_dir\n",
        "        self.encoding = encoding\n",
        "        self.batch_size = batch_size\n",
        "        self.seq_length = seq_length\n",
        "\n",
        "        self.input_file = os.path.join(data_dir, 'tinyshakespeare.txt')\n",
        "        self.vocab_file = os.path.join(data_dir, 'vocab.pkl')\n",
        "        # Numeric file of characters translated to indices.\n",
        "        self.tensor_file = os.path.join(data_dir, 'data.npy')\n",
        "        \n",
        "        if not (os.path.exists(self.vocab_file) and os.path.exists(self.tensor_file)):\n",
        "            #print('it seems we havent processed the text data yet: reading the shakespear')\n",
        "            self.preprocess(self.input_file, self.vocab_file, self.tensor_file)\n",
        "        else:\n",
        "            #print('there are preprocessed data - lets load it')\n",
        "            self.load_preprocessed(self.vocab_file, self.tensor_file)\n",
        "\n",
        "        self.create_batches()\n",
        "        self.reset_batch_pointer()\n",
        "\n",
        "    # Create numeric file.\n",
        "    def preprocess(self, input_file=None, vocab_file=None, tensor_file=None, saveit=True):\n",
        "        if input_file is not None:\n",
        "            self.input_file = input_file\n",
        "        if vocab_file is not None:\n",
        "            self.vocab_file = vocab_file\n",
        "        if tensor_file is not None:\n",
        "            self.tensor_file = tensor_file\n",
        "\n",
        "        with open(self.input_file, 'r') as f:\n",
        "            data = f.read()\n",
        "        #data = data.lower()\n",
        "        self.total_length = len(data)\n",
        "        counter = collections.Counter(data)\n",
        "        count_pairs = sorted(counter.items(), key=lambda x: -x[1])\n",
        "        self.chars, _ = zip(*count_pairs)\n",
        "        self.vocab_size = len(self.chars)\n",
        "        self.vocab_to_idx = dict(zip(self.chars, range(len(self.chars))))\n",
        "        self.idx_to_vocab = dict(zip(self.vocab_to_idx.values(), self.vocab_to_idx.keys()))\n",
        "\n",
        "        if saveit:\n",
        "            with open(self.vocab_file, 'wb') as f:  # saving dictionary so we don't compute it again\n",
        "                pickle.dump(self.chars, f)\n",
        "            self.tensor = np.array(list(map(self.vocab_to_idx.get, data)))\n",
        "            np.save(self.tensor_file, self.tensor)  # saving the numerified data\n",
        "    # Load numeric file create dictionaries for char2idx and back\n",
        "    def load_preprocessed(self, vocab_file=None, tensor_file=None):\n",
        "        if vocab_file is not None:\n",
        "            self.vocab_file = vocab_file\n",
        "        if tensor_file is not None:\n",
        "            self.tensor_file = tensor_file\n",
        "\n",
        "        with open(self.vocab_file, 'rb') as f:\n",
        "            self.chars = pickle.load(f)\n",
        "\n",
        "        # attributes\n",
        "        self.vocab_size = len(self.chars)\n",
        "        self.vocab = dict(zip(self.chars, range(self.vocab_size)))\n",
        "        self.vocab_to_idx = dict(zip(self.chars, range(len(self.chars))))\n",
        "        self.idx_to_vocab = dict(zip(self.vocab_to_idx.values(), self.vocab_to_idx.keys()))\n",
        "        self.tensor = np.load(tensor_file)\n",
        "        self.num_batches = int(self.tensor.size / (self.batch_size * self.seq_length))\n",
        "            \n",
        "    # tensor size = the length of the entire data sequence\n",
        "    # divide into batch_size sub sequences and stack\n",
        "    # cut those by seq_length to produce batches of [batch size, seq_length] sized examples\n",
        "    def create_batches(self):\n",
        "\n",
        "        \n",
        "        self.num_batches = int(self.tensor.size / (self.batch_size * self.seq_length))\n",
        "\n",
        "        if self.num_batches == 0:\n",
        "            assert False, 'Not enough data. Make seq_length and/or batch_size smaller'\n",
        "\n",
        "        self.tensor = self.tensor[:self.num_batches * self.batch_size * self.seq_length]  # so we get an even divide\n",
        "        xdata = self.tensor\n",
        "        ydata = np.copy(self.tensor)\n",
        "\n",
        "        # ydata is one step ahead of x and last item is first item of x \n",
        "        # to get sequences of same length    \n",
        "        ydata[:-1] = xdata[1:] \n",
        "        ydata[-1] = xdata[0]\n",
        "\n",
        "        self.x_batches = np.split(xdata.reshape(self.batch_size, -1), self.num_batches, 1)\n",
        "        self.y_batches = np.split(ydata.reshape(self.batch_size, -1), self.num_batches, 1)\n",
        "        \n",
        "        self.train_num_batches=np.int32(self.num_batches*.8)\n",
        "        self.test_num_batches=self.num_batches-self.train_num_batches\n",
        "        self.train_x_batches=self.x_batches[0:self.train_num_batches]\n",
        "        self.train_y_batches=self.y_batches[0:self.train_num_batches]\n",
        "        self.test_x_batches=self.x_batches[self.train_num_batches:]\n",
        "        self.test_y_batches=self.y_batches[self.train_num_batches:]\n",
        "\n",
        "        # xdata: L length\n",
        "        # xdata reshaped: batch_size, (L/batch_size) length following natural indexing\n",
        "        # np.split: into num batches batches along the width(sentence)\n",
        "\n",
        "    def next_batch_train(self):\n",
        "        x, y = self.train_x_batches[self.pointer], self.train_y_batches[self.pointer]\n",
        "        self.pointer += 1\n",
        "        return x,y\n",
        "    \n",
        "    def next_batch_test(self):\n",
        "        x, y = self.test_x_batches[self.pointer], self.test_y_batches[self.pointer]\n",
        "        self.pointer += 1\n",
        "        return x,y\n",
        "\n",
        "    def reset_batch_pointer(self):\n",
        "        self.pointer = 0"
      ]
    },
    {
      "cell_type": "code",
      "execution_count": 198,
      "metadata": {
        "id": "bhmoBGXdftdM",
        "colab": {
          "base_uri": "https://localhost:8080/"
        },
        "outputId": "8cddfec7-f422-4bd3-d652-5b5ca4a7a15a"
      },
      "outputs": [
        {
          "output_type": "stream",
          "name": "stdout",
          "text": [
            "num chars 65\n",
            "num batches 232\n"
          ]
        }
      ],
      "source": [
        "loader = TextLoader(args.data_dir, batch_size=args.batch_size, seq_length=args.num_steps)\n",
        "args.num_chars = loader.vocab_size\n",
        "print('num chars',args.num_chars)\n",
        "print('num batches',loader.num_batches)"
      ]
    },
    {
      "cell_type": "markdown",
      "metadata": {
        "id": "cfRL3UY5ftdM"
      },
      "source": [
        "# Basic RNN"
      ]
    },
    {
      "cell_type": "code",
      "execution_count": 199,
      "metadata": {
        "id": "XQYlOEXFftdN"
      },
      "outputs": [],
      "source": [
        "# SimpleRNN Cell Class\n",
        "class MyBasicRNNCell(nn.Module):\n",
        "    def __init__(self, input_size, hidden_size):\n",
        "        super().__init__()\n",
        "        self.input_size = input_size\n",
        "        self.hidden_size = hidden_size\n",
        "        self.W = nn.Parameter(torch.Tensor(input_size + hidden_size, hidden_size))\n",
        "        self.b = nn.Parameter(torch.Tensor(hidden_size))\n",
        "        self.init_weights()\n",
        "    def init_weights(self):\n",
        "        for p in self.parameters():\n",
        "            if p.data.ndimension() >= 2:\n",
        "                nn.init.xavier_uniform_(p.data)\n",
        "            else:\n",
        "                nn.init.zeros_(p.data)\n",
        "    def forward(self, x, init_states):\n",
        "        output = torch.tanh(torch.cat((x, init_states),1)@self.W + self.b)\n",
        "        return output, output"
      ]
    },
    {
      "cell_type": "markdown",
      "metadata": {
        "id": "2z1krsitftdO"
      },
      "source": [
        "# Basic LSTM"
      ]
    },
    {
      "cell_type": "code",
      "execution_count": 200,
      "metadata": {
        "id": "NTfZVl94ftdO"
      },
      "outputs": [],
      "source": [
        "class MyBasicLSTMCell(nn.Module):\n",
        "    def __init__(self, input_size, hidden_size):\n",
        "        super().__init__()\n",
        "        self.input_size = input_size\n",
        "        self.hidden_size = hidden_size\n",
        "        self.weight_ih = nn.Parameter(torch.Tensor(input_size, hidden_size * 4))\n",
        "        self.weight_hh = nn.Parameter(torch.Tensor(hidden_size, hidden_size * 4))\n",
        "        self.bias = nn.Parameter(torch.Tensor(hidden_size * 4))\n",
        "        self.init_weights()\n",
        "    def init_weights(self):\n",
        "        for p in self.parameters():\n",
        "            if p.data.ndimension() >= 2:\n",
        "                nn.init.xavier_uniform_(p.data)\n",
        "            else:\n",
        "                nn.init.zeros_(p.data)\n",
        "    def forward(self, x, init_states=None):\n",
        "        if init_states is None:\n",
        "            h_t, c_t = (torch.zeros(self.hidden_size).to(x.device), \n",
        "                        torch.zeros(self.hidden_size).to(x.device))\n",
        "        else:\n",
        "            h_t, c_t = init_states\n",
        "        HS = self.hidden_size\n",
        "        gates = x @ self.weight_ih + h_t @ self.weight_hh + self.bias\n",
        "        i_t, f_t, g_t, o_t = (\n",
        "            torch.sigmoid(gates[:, :HS]), # input\n",
        "            torch.sigmoid(gates[:, HS:HS*2]), # forget\n",
        "            torch.tanh(gates[:, HS*2:HS*3]),\n",
        "            torch.sigmoid(gates[:, HS*3:]), # output\n",
        "        )\n",
        "        c_t = f_t * c_t + i_t * g_t\n",
        "        h_t = o_t * torch.tanh(c_t)\n",
        "        return h_t, (h_t, c_t)"
      ]
    },
    {
      "cell_type": "markdown",
      "metadata": {
        "id": "UnhvazM0ftdP"
      },
      "source": [
        "# Function incorporating chosen Cell type (LSTM, RNN). Unrolling it and adding the loss computation."
      ]
    },
    {
      "cell_type": "code",
      "execution_count": 201,
      "metadata": {
        "id": "ul8kFWKfftdP"
      },
      "outputs": [],
      "source": [
        "class network(nn.Module):\n",
        "    def __init__(self, cell_type, ntoken, ninp, nhid):\n",
        "#       cell_type can be RNN or LSTM\n",
        "#       notken should be args.num_chars\n",
        "#       ninp should be args.num_units - it is the dimension of the embedding \n",
        "#       of the discrete tokens and it usually the same as the hidden dimension.\n",
        "#       nhid should be args.num_units\n",
        "        super(network, self).__init__()\n",
        "        self.cell_type = cell_type\n",
        "        if self.cell_type == 'LSTM':\n",
        "            self.cell = MyBasicLSTMCell(args.num_units, args.num_units)\n",
        "\n",
        "        elif self.cell_type == 'RNN':\n",
        "            self.cell = MyBasicRNNCell(args.num_units, args.num_units)\n",
        "        else:\n",
        "            raise NotImplementedError\n",
        "        self.ntoken = ntoken\n",
        "        self.ninp = ninp\n",
        "        self.nhid = nhid\n",
        "        self.embedding = nn.Embedding(ntoken, ninp)\n",
        "        self.decoder = nn.Linear(nhid, ntoken)\n",
        "        self.init_weights()\n",
        "        \n",
        "    def init_weights(self):\n",
        "        self.decoder.bias.data.zero_()\n",
        "\n",
        "    def forward(self, x, hidden):\n",
        "        bs, seq_sz = x.size()\n",
        "        emb = self.embedding(x)\n",
        "        assert hidden is not None\n",
        "        outputs = []\n",
        "        for t in range(seq_sz):\n",
        "            x_t = emb[:,t,:]\n",
        "            output, hidden = self.cell(x_t, hidden)\n",
        "            outputs.append(output)\n",
        "        reshaped_output = torch.cat(outputs,1).view(-1, self.nhid)\n",
        "        logits = self.decoder(reshaped_output)\n",
        "        logits = logits.view(bs,seq_sz,-1)\n",
        "        final_hidden = hidden\n",
        "        return logits, final_hidden\n",
        "\n",
        "    def init_hidden(self, bsz):\n",
        "        # external function\n",
        "        weight = next(self.parameters()).data\n",
        "        if self.cell_type == 'LSTM':\n",
        "            return (weight.new_zeros(bsz, self.nhid),\n",
        "                    weight.new_zeros(bsz, self.nhid))\n",
        "        elif self.cell_type == 'RNN':\n",
        "            return weight.new_zeros(bsz, self.nhid)\n",
        "        else:\n",
        "            raise NotImplementedError"
      ]
    },
    {
      "cell_type": "markdown",
      "metadata": {
        "id": "vmZ5Fu33ftdP"
      },
      "source": [
        "# Train"
      ]
    },
    {
      "cell_type": "code",
      "execution_count": 202,
      "metadata": {
        "id": "rO2JoCbqftdP"
      },
      "outputs": [],
      "source": [
        "def trainer(celltype):\n",
        "    criterion = nn.CrossEntropyLoss()\n",
        "    start_time = time.time()\n",
        "    my_network = network(celltype, args.num_chars, args.num_units, args.num_units).to(device)\n",
        "    my_network.train()\n",
        "    optimizer = torch.optim.Adam(my_network.parameters(), lr=args.lr)\n",
        "    print('train_num_batches',loader.train_num_batches)\n",
        "    \n",
        "    num_batches=loader.train_num_batches\n",
        "    training_losses = []\n",
        "    for epoch in range(args.num_epochs):\n",
        "        loader.reset_batch_pointer()\n",
        "        # Initial state - 0\n",
        "        init_state = my_network.init_hidden(args.batch_size)\n",
        "        training_loss = 0\n",
        "\n",
        "        for batch in range(num_batches):\n",
        "            x, y = loader.next_batch_train()\n",
        "            x = torch.from_numpy(np.int64(x)).to(device)\n",
        "            y = Variable(torch.from_numpy(np.int64(y))).to(device)\n",
        "            preds, final_hidden = my_network(x, init_state)\n",
        "            train_loss_ = criterion(preds.reshape(-1, args.num_chars), y.reshape(-1))\n",
        "            optimizer.zero_grad()\n",
        "            train_loss_.backward()\n",
        "            optimizer.step()\n",
        "            training_loss += train_loss_.item()\n",
        "        training_loss=training_loss/num_batches\n",
        "        print('epoch:', epoch, 'loss:',  training_loss)\n",
        "        training_losses.append(training_loss)\n",
        "    torch.save(my_network.state_dict(), os.path.join(args.save_dir, f'saved_{celltype}_model.pt'))\n",
        "    end_time = time.time()\n",
        "    \n",
        "    timer(start_time, end_time)\n",
        "    return(training_losses)"
      ]
    },
    {
      "cell_type": "code",
      "execution_count": null,
      "metadata": {
        "id": "KV0fHtb8ftdQ",
        "colab": {
          "base_uri": "https://localhost:8080/"
        },
        "outputId": "5cafa730-2640-4540-90ee-fa8ee124280e"
      },
      "outputs": [
        {
          "output_type": "stream",
          "name": "stdout",
          "text": [
            "cuda:0\n",
            "train_num_batches 185\n",
            "epoch: 0 loss: 2.1187943278132257\n",
            "epoch: 1 loss: 1.6794957818211735\n",
            "epoch: 2 loss: 1.5645266397579296\n",
            "epoch: 3 loss: 1.5039841039760693\n",
            "epoch: 4 loss: 1.464676824775902\n",
            "epoch: 5 loss: 1.4358778824677338\n",
            "epoch: 6 loss: 1.4130969898120778\n",
            "epoch: 7 loss: 1.3946033967507852\n",
            "epoch: 8 loss: 1.3787836364797643\n",
            "epoch: 9 loss: 1.3648058079384469\n",
            "epoch: 10 loss: 1.352621796968821\n",
            "epoch: 11 loss: 1.341589802020305\n",
            "epoch: 12 loss: 1.3316286757185651\n",
            "epoch: 13 loss: 1.3224587601584357\n",
            "epoch: 14 loss: 1.3140894941381507\n",
            "epoch: 15 loss: 1.3064258059939822\n",
            "epoch: 16 loss: 1.2994424033809353\n",
            "epoch: 17 loss: 1.2928691445170222\n",
            "epoch: 18 loss: 1.2869094036720894\n",
            "epoch: 19 loss: 1.281814623523403\n",
            "00 hours 05 minutes 13.36 seconds\n"
          ]
        }
      ],
      "source": [
        "print(device)\n",
        "args.num_epochs=20\n",
        "re_lstm_basic = trainer(\"LSTM\")"
      ]
    },
    {
      "cell_type": "code",
      "execution_count": null,
      "metadata": {
        "id": "ncDp7e6wftdQ",
        "colab": {
          "base_uri": "https://localhost:8080/"
        },
        "outputId": "7ddb41cf-d061-44ea-ea87-01fe08467a98"
      },
      "outputs": [
        {
          "output_type": "stream",
          "name": "stdout",
          "text": [
            "cuda:0\n",
            "train_num_batches 185\n",
            "epoch: 0 loss: 2.051297093082119\n",
            "epoch: 1 loss: 1.6862551502279333\n",
            "epoch: 2 loss: 1.587120489816408\n",
            "epoch: 3 loss: 1.534440895673391\n",
            "epoch: 4 loss: 1.500025665437853\n",
            "epoch: 5 loss: 1.476004594081157\n",
            "epoch: 6 loss: 1.4588236834551838\n",
            "epoch: 7 loss: 1.4442256534421767\n",
            "epoch: 8 loss: 1.4319780865231075\n",
            "epoch: 9 loss: 1.4231811877843497\n",
            "epoch: 10 loss: 1.4151097581193255\n",
            "epoch: 11 loss: 1.4081390483959302\n",
            "epoch: 12 loss: 1.401777823551281\n",
            "epoch: 13 loss: 1.3961938928913427\n",
            "epoch: 14 loss: 1.3922612132252874\n",
            "epoch: 15 loss: 1.3886481736157392\n",
            "epoch: 16 loss: 1.384993459727313\n",
            "epoch: 17 loss: 1.3821553094966992\n",
            "epoch: 18 loss: 1.3803306205852612\n",
            "epoch: 19 loss: 1.3788301113489512\n",
            "00 hours 02 minutes 48.00 seconds\n"
          ]
        }
      ],
      "source": [
        "print(device)\n",
        "args.num_epochs=20\n",
        "re_rnn_basic = trainer(\"RNN\")"
      ]
    },
    {
      "cell_type": "markdown",
      "metadata": {
        "id": "TUrOup7aftdR"
      },
      "source": [
        "# Reload model and run a simulated prediction"
      ]
    },
    {
      "cell_type": "code",
      "execution_count": 203,
      "metadata": {
        "id": "_qp17yysftdR"
      },
      "outputs": [],
      "source": [
        "def Synthesize(celltype, init_string=\"None\"):\n",
        "    num_steps_bak=args.num_steps\n",
        "    batch_size_bak=args.batch_size\n",
        "    args.num_steps=1\n",
        "    args.batch_size=1\n",
        "    my_network = network(celltype, args.num_chars, args.num_units, args.num_units)\n",
        "    my_network.load_state_dict(torch.load(os.path.join(args.save_dir, f'saved_{celltype}_model.pt')))\n",
        "    my_network.eval()\n",
        "\n",
        "    # Define initialization\n",
        "    if (init_string is None):\n",
        "        initialization = 'Where are you going today?'\n",
        "    else:\n",
        "        initialization = init_string\n",
        "    loader= TextLoader(args.data_dir, batch_size=1, seq_length=1)\n",
        "\n",
        "    forecast_data=np.array(list(map(loader.vocab_to_idx.get, initialization)))\n",
        "    #print(forecast_data)\n",
        "    forecast_range = 100\n",
        "    top_k=5\n",
        " \n",
        "    # Run rnn on initialization data to get final hidden state before simulation\n",
        "    init_state = my_network.init_hidden(args.batch_size)\n",
        "    #print('data length',forecast_data.shape[0])\n",
        "    with torch.no_grad():\n",
        "        for i in range(forecast_data.shape[0]):\n",
        "            inputs = forecast_data[i].reshape(args.batch_size, args.num_steps)\n",
        "            x = Variable(torch.from_numpy(np.int64(inputs)))\n",
        "            _, state_ = my_network(x, init_state)\n",
        "\n",
        "        # last state of this step becomes first state of simulation\n",
        "\n",
        "        for i in range(forecast_range):\n",
        "            # Feed current predicted\n",
        "            inputs = forecast_data[-args.num_steps:].reshape(args.batch_size, args.num_steps)\n",
        "            x = Variable(torch.from_numpy(np.int64(inputs)))\n",
        "            logits_, state_ = my_network(x, state_)\n",
        "            predicted_prob = F.softmax(logits_.reshape(-1, args.num_chars),1).detach().numpy().squeeze()\n",
        "#             print(predicted_prob.shape)\n",
        "            # Simulate from top top_k probs\n",
        "            predicted_prob[np.argsort(predicted_prob)[:-top_k]] = 0\n",
        "            predicted_prob = predicted_prob/np.sum(predicted_prob)\n",
        "            sample = np.random.choice(args.num_chars, 1, p=predicted_prob)[0]\n",
        "            forecast_data = np.hstack((forecast_data, sample))\n",
        "\n",
        "    forecasted_chars = np.asarray([loader.idx_to_vocab[elem] for elem in forecast_data])\n",
        "\n",
        "    print(''.join(forecasted_chars))\n",
        "  \n",
        "    args.num_steps=num_steps_bak\n",
        "    args.batch_size=batch_size_bak"
      ]
    },
    {
      "cell_type": "code",
      "execution_count": null,
      "metadata": {
        "id": "_FxBZTamftdS",
        "colab": {
          "base_uri": "https://localhost:8080/"
        },
        "outputId": "ebe76a9f-0983-4a59-ea34-f2274ae1c9f1"
      },
      "outputs": [
        {
          "output_type": "stream",
          "name": "stdout",
          "text": [
            "I am trying to create synthetic language, and its probably not working well, What is the meaning of life on the gentlewoman,\n",
            "That yet be prouds at our oaths\n",
            "And bear these senses all their servant.\n",
            "\n",
            "Clown:\n"
          ]
        }
      ],
      "source": [
        "Synthesize(\"LSTM\",\"I am trying to create synthetic language, and its probably not working well, What is the meaning of life \")"
      ]
    },
    {
      "cell_type": "code",
      "execution_count": null,
      "metadata": {
        "id": "tgiJ_H3nftdS",
        "colab": {
          "base_uri": "https://localhost:8080/"
        },
        "outputId": "6c974c9b-2efe-49c8-c757-d20936cc6b1f"
      },
      "outputs": [
        {
          "output_type": "stream",
          "name": "stdout",
          "text": [
            "I am trying to create synthetic language, and its probably not working well, What is the meaning of life other the wars.\n",
            "\n",
            "POLIXENES:\n",
            "Have not, welcome be all myself\n",
            "And when yet, to have beat to things all\n"
          ]
        }
      ],
      "source": [
        "Synthesize(\"RNN\",\"I am trying to create synthetic language, and its probably not working well, What is the meaning of life \")"
      ]
    },
    {
      "cell_type": "markdown",
      "metadata": {
        "id": "wBk6eQ0EftdS"
      },
      "source": [
        "# Get loss on test set"
      ]
    },
    {
      "cell_type": "code",
      "execution_count": null,
      "metadata": {
        "id": "v-DASfvmftdS"
      },
      "outputs": [],
      "source": [
        "def Tester(celltype, num_batches=None):\n",
        "    my_network = network(celltype, args.num_chars, args.num_units, args.num_units)\n",
        "    my_network.load_state_dict(torch.load(os.path.join(args.save_dir, f'saved_{celltype}_model.pt')))\n",
        "    my_network.eval()\n",
        "    # Define initialization\n",
        "    initialization = 'Where are you going today?'\n",
        "    loader= TextLoader(args.data_dir, batch_size=args.batch_size, seq_length=args.num_steps)\n",
        "\n",
        "    forecast_data=np.array(list(map(loader.vocab_to_idx.get, initialization)))\n",
        "    print(forecast_data)\n",
        "    forecast_range = 100\n",
        "    top_k=5\n",
        " \n",
        "    if (num_batches is None):\n",
        "        num_batches=loader.test_num_batches\n",
        "   \n",
        "    state_ = my_network.init_hidden(args.batch_size)\n",
        "    loader.reset_batch_pointer()\n",
        "    # Get test error loss\n",
        "    test_loss = 0\n",
        "    print('num_batches',num_batches)\n",
        "    criterion = nn.CrossEntropyLoss()\n",
        "    with torch.no_grad():\n",
        "        for batch in range(num_batches):\n",
        "            x, y = loader.next_batch_test()\n",
        "            x = Variable(torch.from_numpy(np.int64(x)))\n",
        "            y = Variable(torch.from_numpy(np.int64(y)))\n",
        "            preds, final_hidden = my_network(x, state_)\n",
        "            test_loss_ = criterion(preds.reshape(-1, args.num_chars), y.reshape(-1))\n",
        "            test_loss += test_loss_.item()\n",
        "        test_loss=test_loss/num_batches\n",
        "        print('test loss:',  test_loss)\n",
        "    \n",
        "    return(test_loss)"
      ]
    },
    {
      "cell_type": "markdown",
      "source": [
        "# Question 1 RNN for predicting characters\n",
        "### (a) Run the basic LSTM architecture given in the notebook. Plot the error on training as a function of epoch. Try a few priming sentences and see what the trained architecture produces. Load the test set and estimate the error on prediction in the test set."
      ],
      "metadata": {
        "id": "0YPqOSmfrx5r"
      }
    },
    {
      "cell_type": "code",
      "execution_count": null,
      "metadata": {
        "id": "QL2iCEFPftdT",
        "colab": {
          "base_uri": "https://localhost:8080/",
          "height": 472
        },
        "outputId": "c7f800ae-ed0e-4f78-842c-ae7e08078edd"
      },
      "outputs": [
        {
          "output_type": "display_data",
          "data": {
            "text/plain": [
              "<Figure size 640x480 with 1 Axes>"
            ],
            "image/png": "[encoded data removed]"
          },
          "metadata": {}
        }
      ],
      "source": [
        "import matplotlib.pyplot as plt\n",
        "# Plot the error\n",
        "plt.plot(re_lstm_basic, label='train')\n",
        "plt.title('LSTM Train Error vs epoch number')\n",
        "plt.xlabel('Epoch number')\n",
        "plt.ylabel('Error')\n",
        "plt.show()"
      ]
    },
    {
      "cell_type": "code",
      "execution_count": null,
      "metadata": {
        "id": "n3l1R3YXftdT",
        "colab": {
          "base_uri": "https://localhost:8080/"
        },
        "outputId": "d2f8b7e5-522b-48d2-d54b-32ef39772d06"
      },
      "outputs": [
        {
          "output_type": "stream",
          "name": "stdout",
          "text": [
            "Priming Sentence: I am trying to create synthetic language.\n",
            "I am trying to create synthetic language.\n",
            "\n",
            "PETRUCHIO:\n",
            "There is that will be my steem\n",
            "And not lights him.\n",
            "\n",
            "Clown:\n",
            "Ay, that will I do to tell t\n",
            "\n",
            "Priming Sentence: The weather is beautiful and warm today.\n",
            "The weather is beautiful and warm today.\n",
            "\n",
            "KATHARINA:\n",
            "A moning of your love, take your lady\n",
            "To hide it to his brace and the blood\n",
            "Which I wis\n",
            "\n",
            "Priming Sentence: I am writing the Machine Learning homework\n",
            "I am writing the Machine Learning homeworkingland and to themselves,\n",
            "Who is most like to be done,\n",
            "And see's the seals, the duke and the bank.\n",
            "\n",
            "\n"
          ]
        }
      ],
      "source": [
        "priming_sentences = [\"I am trying to create synthetic language.\",\n",
        "                     \"The weather is beautiful and warm today.\",\n",
        "                     \"I am writing the Machine Learning homework\"]\n",
        "\n",
        "for priming_sentence in priming_sentences:\n",
        "    print(f\"Priming Sentence: {priming_sentence}\")\n",
        "    Synthesize(\"LSTM\", priming_sentence)\n",
        "    print()\n"
      ]
    },
    {
      "cell_type": "code",
      "source": [
        "test_loss_lstm = Tester(\"LSTM\")"
      ],
      "metadata": {
        "colab": {
          "base_uri": "https://localhost:8080/"
        },
        "id": "TFT49SS4wNfU",
        "outputId": "e6a4aad4-0acb-4aed-dcd2-3783e3c45f9c"
      },
      "execution_count": null,
      "outputs": [
        {
          "output_type": "stream",
          "name": "stdout",
          "text": [
            "[39  5  1  7  1  0  4  7  1  0 15  3 13  0 20  3  9  8 20  0  2  3 12  4\n",
            " 15 44]\n",
            "num_batches 47\n",
            "test loss: 1.433076764674897\n"
          ]
        }
      ]
    },
    {
      "cell_type": "markdown",
      "source": [
        "### (b) Run the same experiment with the basic RNN architecture. This has 1/4 of the parameters of the LSTM. Compare the training error plot with the original LSTM. Compare the test set error."
      ],
      "metadata": {
        "id": "mLt7ygK1wUlm"
      }
    },
    {
      "cell_type": "code",
      "source": [
        "# Plot the error\n",
        "plt.plot(re_rnn_basic, label='train')\n",
        "plt.title('RNN Train Error vs epoch number')\n",
        "plt.xlabel('Epoch number')\n",
        "plt.ylabel('Error')\n",
        "plt.show()"
      ],
      "metadata": {
        "colab": {
          "base_uri": "https://localhost:8080/",
          "height": 472
        },
        "id": "VMfr9oVmwYsU",
        "outputId": "59c11717-f75e-4d16-a154-72637bc3019c"
      },
      "execution_count": null,
      "outputs": [
        {
          "output_type": "display_data",
          "data": {
            "text/plain": [
              "<Figure size 640x480 with 1 Axes>"
            ],
            "image/png": "[encoded data removed]"
          },
          "metadata": {}
        }
      ]
    },
    {
      "cell_type": "code",
      "source": [
        "priming_sentences = [\"I am trying to create synthetic language.\",\n",
        "                     \"The weather is beautiful and warm today.\",\n",
        "                     \"I am writing the Machine Learning homework\"]\n",
        "\n",
        "for priming_sentence in priming_sentences:\n",
        "    print(f\"Priming Sentence: {priming_sentence}\")\n",
        "    Synthesize(\"RNN\", priming_sentence)\n",
        "    print()"
      ],
      "metadata": {
        "colab": {
          "base_uri": "https://localhost:8080/"
        },
        "id": "5MXViiKAw284",
        "outputId": "7c1c315b-c007-40bd-c26a-bca54088371e"
      },
      "execution_count": null,
      "outputs": [
        {
          "output_type": "stream",
          "name": "stdout",
          "text": [
            "Priming Sentence: I am trying to create synthetic language.\n",
            "I am trying to create synthetic language.\n",
            "\n",
            "DUKE OF AUMERLE:\n",
            "I would he be see it to be do not shall be daughter.\n",
            "\n",
            "KING EDWARD IV:\n",
            "What shall \n",
            "\n",
            "Priming Sentence: The weather is beautiful and warm today.\n",
            "The weather is beautiful and warm today.\n",
            "\n",
            "AUTOLYCUS:\n",
            "An, I'll be hurt thou take it not tremal secutio are that I have a thing.\n",
            "\n",
            "BRUTUS:\n",
            "What\n",
            "\n",
            "Priming Sentence: I am writing the Machine Learning homework\n",
            "I am writing the Machine Learning homeworking on my some beggar, and this is my straitors of this secruties; and the cause\n",
            "Believe you but mys\n",
            "\n"
          ]
        }
      ]
    },
    {
      "cell_type": "code",
      "source": [
        "test_loss_rnn = Tester(\"RNN\")"
      ],
      "metadata": {
        "colab": {
          "base_uri": "https://localhost:8080/"
        },
        "id": "Baiy82aQxAHP",
        "outputId": "cfc28af2-fd34-4a13-972c-953c7b18939f"
      },
      "execution_count": null,
      "outputs": [
        {
          "output_type": "stream",
          "name": "stdout",
          "text": [
            "[39  5  1  7  1  0  4  7  1  0 15  3 13  0 20  3  9  8 20  0  2  3 12  4\n",
            " 15 44]\n",
            "num_batches 47\n",
            "test loss: 1.496725779898623\n"
          ]
        }
      ]
    },
    {
      "cell_type": "markdown",
      "source": [
        "We see that the Error plot are pretty similar, both having an elbow around epoch 1 and the test loss is similar too, while the test loss for RNN is a bit higher than that of LSTM."
      ],
      "metadata": {
        "id": "pKo6nmUwxMMC"
      }
    },
    {
      "cell_type": "markdown",
      "source": [
        "### (c) Try 3 alternatives. For example an RNN with the same number of parameters as the LSTM. Or an RNN with more than one internal layer. Explain each of your models, plot the training error rate functions as a function of epoch for all your models and show the error rates on the test set as well."
      ],
      "metadata": {
        "id": "66hlldP4xiCM"
      }
    },
    {
      "cell_type": "markdown",
      "source": [
        "1. Increaseing the dimension of the hidden layer from $128\\times2$ to $128\\times4$"
      ],
      "metadata": {
        "id": "j9rmNb5pXirS"
      }
    },
    {
      "cell_type": "code",
      "source": [
        "print(device)\n",
        "args.num_epochs=20\n",
        "args.num_unit = 128*4\n",
        "train_loss_rnn_dim = trainer(\"RNN\")"
      ],
      "metadata": {
        "colab": {
          "base_uri": "https://localhost:8080/"
        },
        "id": "aOPlN39oXnHy",
        "outputId": "d2dca560-76b3-4bbc-e637-c460a54ff2c5"
      },
      "execution_count": null,
      "outputs": [
        {
          "output_type": "stream",
          "name": "stdout",
          "text": [
            "cuda:0\n",
            "train_num_batches 185\n",
            "epoch: 0 loss: 2.0490100113121237\n",
            "epoch: 1 loss: 1.6870605462306254\n",
            "epoch: 2 loss: 1.5868770979546212\n",
            "epoch: 3 loss: 1.5334261095201647\n",
            "epoch: 4 loss: 1.4989686888617437\n",
            "epoch: 5 loss: 1.4748062977919707\n",
            "epoch: 6 loss: 1.4564088647430007\n",
            "epoch: 7 loss: 1.4418658527168067\n",
            "epoch: 8 loss: 1.4298063245979515\n",
            "epoch: 9 loss: 1.4209399326427563\n",
            "epoch: 10 loss: 1.4135972158328907\n",
            "epoch: 11 loss: 1.4073002447953096\n",
            "epoch: 12 loss: 1.402362441372227\n",
            "epoch: 13 loss: 1.3980211837871654\n",
            "epoch: 14 loss: 1.3926058169957753\n",
            "epoch: 15 loss: 1.3884132320816454\n",
            "epoch: 16 loss: 1.3842169942082585\n",
            "epoch: 17 loss: 1.3819504583204114\n",
            "epoch: 18 loss: 1.3800587447913917\n",
            "epoch: 19 loss: 1.378176845730962\n",
            "00 hours 03 minutes 08.04 seconds\n"
          ]
        }
      ]
    },
    {
      "cell_type": "code",
      "source": [
        "test_loss_rnn_layer2 = Tester(\"RNN\")"
      ],
      "metadata": {
        "colab": {
          "base_uri": "https://localhost:8080/"
        },
        "id": "9QYjvyUMY5G1",
        "outputId": "cfe665d0-f613-4540-cd33-626a3bd0a760"
      },
      "execution_count": null,
      "outputs": [
        {
          "output_type": "stream",
          "name": "stdout",
          "text": [
            "[39  5  1  7  1  0  4  7  1  0 15  3 13  0 20  3  9  8 20  0  2  3 12  4\n",
            " 15 44]\n",
            "num_batches 47\n",
            "test loss: 1.4639715032374605\n"
          ]
        }
      ]
    },
    {
      "cell_type": "markdown",
      "source": [
        "2. RNN with more than one internal layer:"
      ],
      "metadata": {
        "id": "HGw7AhcTLeAU"
      }
    },
    {
      "cell_type": "code",
      "source": [
        "# 2 Lyaer RNN Cell Class\n",
        "class MyBasicRNNCell_2(nn.Module):\n",
        "    def __init__(self, input_size, hidden_size):\n",
        "        super().__init__()\n",
        "        self.input_size = input_size\n",
        "        self.hidden_size = hidden_size\n",
        "        self.W1 = nn.Parameter(torch.Tensor(input_size + hidden_size, hidden_size))\n",
        "        self.b1 = nn.Parameter(torch.Tensor(hidden_size))\n",
        "        self.W2 = nn.Parameter(torch.Tensor(hidden_size, hidden_size))\n",
        "        self.b2 = nn.Parameter(torch.Tensor(hidden_size))\n",
        "        self.init_weights()\n",
        "    def init_weights(self):\n",
        "        for p in self.parameters():\n",
        "            if p.data.ndimension() >= 2:\n",
        "                nn.init.xavier_uniform_(p.data)\n",
        "            else:\n",
        "                nn.init.zeros_(p.data)\n",
        "    def forward(self, x, init_states):\n",
        "        h1 = torch.tanh(torch.cat((x, init_states), 1) @ self.W1 + self.b1)\n",
        "        output = torch.tanh(h1 @ self.W2 + self.b2)\n",
        "        return output, output\n"
      ],
      "metadata": {
        "id": "jauMB2fjxnjm"
      },
      "execution_count": null,
      "outputs": []
    },
    {
      "cell_type": "code",
      "source": [
        "class network_2(nn.Module):\n",
        "    def __init__(self, cell_type, ntoken, ninp, nhid):\n",
        "#       cell_type can be RNN or LSTM\n",
        "#       notken should be args.num_chars\n",
        "#       ninp should be args.num_units - it is the dimension of the embedding \n",
        "#       of the discrete tokens and it usually the same as the hidden dimension.\n",
        "#       nhid should be args.num_units\n",
        "        super(network_2, self).__init__()\n",
        "        self.cell_type = cell_type\n",
        "        if self.cell_type == 'LSTM':\n",
        "            self.cell = MyBasicLSTMCell(args.num_units, args.num_units)\n",
        "\n",
        "        elif self.cell_type == 'RNN':\n",
        "            self.cell = MyBasicRNNCell_2(args.num_units, args.num_units)\n",
        "            self.cell2 = MyBasicRNNCell_2(args.num_units, args.num_units)\n",
        "        else:\n",
        "            raise NotImplementedError\n",
        "        self.ntoken = ntoken\n",
        "        self.ninp = ninp\n",
        "        self.nhid = nhid\n",
        "        self.embedding = nn.Embedding(ntoken, ninp)\n",
        "        self.decoder = nn.Linear(nhid, ntoken)\n",
        "        self.init_weights()\n",
        "        \n",
        "    def init_weights(self):\n",
        "        self.decoder.bias.data.zero_()\n",
        "\n",
        "    def forward(self, x, hidden):\n",
        "        bs, seq_sz = x.size()\n",
        "        emb = self.embedding(x)\n",
        "        assert hidden is not None\n",
        "        outputs = []\n",
        "        for t in range(seq_sz):\n",
        "            x_t = emb[:,t,:]\n",
        "            output, hidden = self.cell(x_t, hidden)\n",
        "            #output, hidden = self.cell(output, hidden)\n",
        "            outputs.append(output)\n",
        "        reshaped_output = torch.cat(outputs,1).view(-1, self.nhid)\n",
        "        logits = self.decoder(reshaped_output)\n",
        "        logits = logits.view(bs,seq_sz,-1)\n",
        "        final_hidden = hidden\n",
        "        return logits, final_hidden\n",
        "\n",
        "    def init_hidden(self, bsz):\n",
        "        # external function\n",
        "        weight = next(self.parameters()).data\n",
        "        if self.cell_type == 'LSTM':\n",
        "            return (weight.new_zeros(bsz, self.nhid),\n",
        "                    weight.new_zeros(bsz, self.nhid))\n",
        "        elif self.cell_type == 'RNN':\n",
        "            return weight.new_zeros(bsz, self.nhid)\n",
        "        else:\n",
        "            raise NotImplementedError"
      ],
      "metadata": {
        "id": "FGsULBTfNt-1"
      },
      "execution_count": null,
      "outputs": []
    },
    {
      "cell_type": "code",
      "source": [
        "def trainer_2(celltype):\n",
        "    criterion = nn.CrossEntropyLoss()\n",
        "    start_time = time.time()\n",
        "    my_network = network_2(celltype, args.num_chars, args.num_units, args.num_units).to(device)\n",
        "    my_network.train()\n",
        "    optimizer = torch.optim.Adam(my_network.parameters(), lr=args.lr)\n",
        "    print('train_num_batches',loader.train_num_batches)\n",
        "    \n",
        "    num_batches=loader.train_num_batches\n",
        "    training_losses = []\n",
        "    for epoch in range(args.num_epochs):\n",
        "        loader.reset_batch_pointer()\n",
        "        # Initial state - 0\n",
        "        init_state = my_network.init_hidden(args.batch_size)\n",
        "        training_loss = 0\n",
        "\n",
        "        for batch in range(num_batches):\n",
        "            x, y = loader.next_batch_train()\n",
        "            x = torch.from_numpy(np.int64(x)).to(device)\n",
        "            y = Variable(torch.from_numpy(np.int64(y))).to(device)\n",
        "            preds, final_hidden = my_network(x, init_state)\n",
        "            train_loss_ = criterion(preds.reshape(-1, args.num_chars), y.reshape(-1))\n",
        "            optimizer.zero_grad()\n",
        "            train_loss_.backward()\n",
        "            optimizer.step()\n",
        "            training_loss += train_loss_.item()\n",
        "        training_loss=training_loss/num_batches\n",
        "        print('epoch:', epoch, 'loss:',  training_loss)\n",
        "        training_losses.append(training_loss)\n",
        "    torch.save(my_network.state_dict(), os.path.join(args.save_dir, f'saved_{celltype}_model.pt'))\n",
        "    end_time = time.time()\n",
        "    \n",
        "    timer(start_time, end_time)\n",
        "    return(training_losses)"
      ],
      "metadata": {
        "id": "yeIpilqSVnso"
      },
      "execution_count": null,
      "outputs": []
    },
    {
      "cell_type": "code",
      "source": [
        "print(device)\n",
        "args.num_epochs=20\n",
        "re_rnn_layer2 = trainer_2(\"RNN\")"
      ],
      "metadata": {
        "colab": {
          "base_uri": "https://localhost:8080/"
        },
        "id": "RuUonCnRNZ1d",
        "outputId": "3976f4a3-58de-4bf1-93e0-2b8b54e731a4"
      },
      "execution_count": null,
      "outputs": [
        {
          "output_type": "stream",
          "name": "stdout",
          "text": [
            "cuda:0\n",
            "train_num_batches 185\n",
            "epoch: 0 loss: 2.054459412677868\n",
            "epoch: 1 loss: 1.6917653032251307\n",
            "epoch: 2 loss: 1.593915242762179\n",
            "epoch: 3 loss: 1.543192905993075\n",
            "epoch: 4 loss: 1.5106766662082156\n",
            "epoch: 5 loss: 1.490291665695809\n",
            "epoch: 6 loss: 1.473553193582071\n",
            "epoch: 7 loss: 1.4613533754606505\n",
            "epoch: 8 loss: 1.4527930904079127\n",
            "epoch: 9 loss: 1.4460097080952412\n",
            "epoch: 10 loss: 1.4407112985043913\n",
            "epoch: 11 loss: 1.4383782908723162\n",
            "epoch: 12 loss: 1.4369051308245273\n",
            "epoch: 13 loss: 1.432896521929148\n",
            "epoch: 14 loss: 1.42980948654381\n",
            "epoch: 15 loss: 1.4331143920486038\n",
            "epoch: 16 loss: 1.4325169975693162\n",
            "epoch: 17 loss: 1.4383661643878833\n",
            "epoch: 18 loss: 1.4411958713789244\n",
            "epoch: 19 loss: 1.44126088876982\n",
            "00 hours 05 minutes 15.66 seconds\n"
          ]
        }
      ]
    },
    {
      "cell_type": "code",
      "source": [
        "def Tester_2(celltype, num_batches=None):\n",
        "    my_network = network_2(celltype, args.num_chars, args.num_units, args.num_units)\n",
        "    my_network.load_state_dict(torch.load(os.path.join(args.save_dir, f'saved_{celltype}_model.pt')))\n",
        "    my_network.eval()\n",
        "    # Define initialization\n",
        "    initialization = 'Where are you going today?'\n",
        "    loader= TextLoader(args.data_dir, batch_size=args.batch_size, seq_length=args.num_steps)\n",
        "\n",
        "    forecast_data=np.array(list(map(loader.vocab_to_idx.get, initialization)))\n",
        "    print(forecast_data)\n",
        "    forecast_range = 100\n",
        "    top_k=5\n",
        " \n",
        "    if (num_batches is None):\n",
        "        num_batches=loader.test_num_batches\n",
        "   \n",
        "    state_ = my_network.init_hidden(args.batch_size)\n",
        "    loader.reset_batch_pointer()\n",
        "    # Get test error loss\n",
        "    test_loss = 0\n",
        "    print('num_batches',num_batches)\n",
        "    criterion = nn.CrossEntropyLoss()\n",
        "    with torch.no_grad():\n",
        "        for batch in range(num_batches):\n",
        "            x, y = loader.next_batch_test()\n",
        "            x = Variable(torch.from_numpy(np.int64(x)))\n",
        "            y = Variable(torch.from_numpy(np.int64(y)))\n",
        "            preds, final_hidden = my_network(x, state_)\n",
        "            test_loss_ = criterion(preds.reshape(-1, args.num_chars), y.reshape(-1))\n",
        "            test_loss += test_loss_.item()\n",
        "        test_loss=test_loss/num_batches\n",
        "        print('test loss:',  test_loss)\n",
        "    \n",
        "    return(test_loss)"
      ],
      "metadata": {
        "id": "I8n0A5MiW5SJ"
      },
      "execution_count": null,
      "outputs": []
    },
    {
      "cell_type": "code",
      "source": [
        "test_loss_layer2 = Tester_2(\"RNN\")"
      ],
      "metadata": {
        "colab": {
          "base_uri": "https://localhost:8080/"
        },
        "id": "6uxZhzq6XOMT",
        "outputId": "8bb07b46-6a3b-469e-bbba-10103a22449e"
      },
      "execution_count": null,
      "outputs": [
        {
          "output_type": "execute_result",
          "data": {
            "text/plain": [
              "1.7733005006262597"
            ]
          },
          "metadata": {},
          "execution_count": 120
        }
      ]
    },
    {
      "cell_type": "markdown",
      "source": [
        "3. RNN with the same number of parameters as LSTM"
      ],
      "metadata": {
        "id": "4uZu-2oQZulR"
      }
    },
    {
      "cell_type": "code",
      "source": [
        "class MyBasicRNNCell_3(nn.Module):\n",
        "    def __init__(self, input_size, hidden_size):\n",
        "        super().__init__()\n",
        "        self.input_size = input_size\n",
        "        self.hidden_size = hidden_size\n",
        "\n",
        "        # RNN parameters\n",
        "        self.W_xh = nn.Parameter(torch.Tensor(input_size, hidden_size))\n",
        "        self.W_hh = nn.Parameter(torch.Tensor(hidden_size, hidden_size))\n",
        "        self.b_h = nn.Parameter(torch.Tensor(hidden_size))\n",
        "\n",
        "        # Additional LSTM-like parameters\n",
        "        self.W_xc = nn.Parameter(torch.Tensor(input_size, hidden_size))\n",
        "        self.W_hc = nn.Parameter(torch.Tensor(hidden_size, hidden_size))\n",
        "        self.b_c = nn.Parameter(torch.Tensor(hidden_size))\n",
        "\n",
        "        self.init_weights()\n",
        "\n",
        "    def init_weights(self):\n",
        "        for p in self.parameters():\n",
        "            if p.data.ndimension() >= 2:\n",
        "                nn.init.xavier_uniform_(p.data)\n",
        "            else:\n",
        "                nn.init.zeros_(p.data)\n",
        "\n",
        "    def forward(self, x, init_states):\n",
        "        h_t = init_states\n",
        "\n",
        "        # RNN computation\n",
        "        h = torch.tanh(x @ self.W_xh + h_t @ self.W_hh + self.b_h)\n",
        "\n",
        "        # LSTM-like computation\n",
        "        c = torch.tanh(x @ self.W_xc + h_t @ self.W_hc + self.b_c)\n",
        "\n",
        "        return h, c\n"
      ],
      "metadata": {
        "id": "jQh3ETouZtwQ"
      },
      "execution_count": 209,
      "outputs": []
    },
    {
      "cell_type": "code",
      "source": [
        "class network_3(nn.Module):\n",
        "    def __init__(self, cell_type, ntoken, ninp, nhid):\n",
        "#       cell_type can be RNN or LSTM\n",
        "#       notken should be args.num_chars\n",
        "#       ninp should be args.num_units - it is the dimension of the embedding \n",
        "#       of the discrete tokens and it usually the same as the hidden dimension.\n",
        "#       nhid should be args.num_units\n",
        "        super(network_3, self).__init__()\n",
        "        self.cell_type = cell_type\n",
        "        if self.cell_type == 'LSTM':\n",
        "            self.cell = MyBasicLSTMCell(args.num_units, args.num_units)\n",
        "\n",
        "        elif self.cell_type == 'RNN':\n",
        "            self.cell = MyBasicRNNCell_3(args.num_units, args.num_units)\n",
        "        else:\n",
        "            raise NotImplementedError\n",
        "        self.ntoken = ntoken\n",
        "        self.ninp = ninp\n",
        "        self.nhid = nhid\n",
        "        self.embedding = nn.Embedding(ntoken, ninp)\n",
        "        self.decoder = nn.Linear(nhid, ntoken)\n",
        "        self.init_weights()\n",
        "        \n",
        "    def init_weights(self):\n",
        "        self.decoder.bias.data.zero_()\n",
        "\n",
        "    def forward(self, x, hidden):\n",
        "        bs, seq_sz = x.size()\n",
        "        emb = self.embedding(x)\n",
        "        assert hidden is not None\n",
        "        outputs = []\n",
        "        for t in range(seq_sz):\n",
        "            x_t = emb[:,t,:]\n",
        "            output, hidden = self.cell(x_t, hidden)\n",
        "            outputs.append(output)\n",
        "        reshaped_output = torch.cat(outputs,1).view(-1, self.nhid)\n",
        "        logits = self.decoder(reshaped_output)\n",
        "        logits = logits.view(bs,seq_sz,-1)\n",
        "        final_hidden = hidden\n",
        "        return logits, final_hidden\n",
        "\n",
        "    def init_hidden(self, bsz):\n",
        "        # external function\n",
        "        weight = next(self.parameters()).data\n",
        "        if self.cell_type == 'LSTM':\n",
        "            return (weight.new_zeros(bsz, self.nhid),\n",
        "                    weight.new_zeros(bsz, self.nhid))\n",
        "        elif self.cell_type == 'RNN':\n",
        "            return weight.new_zeros(bsz, self.nhid)\n",
        "        else:\n",
        "            raise NotImplementedError"
      ],
      "metadata": {
        "id": "s_IMQtR6eO_G"
      },
      "execution_count": 208,
      "outputs": []
    },
    {
      "cell_type": "code",
      "source": [
        "def trainer_3(celltype):\n",
        "    criterion = nn.CrossEntropyLoss()\n",
        "    start_time = time.time()\n",
        "    my_network = network_3(celltype, args.num_chars, args.num_units, args.num_units).to(device)\n",
        "    my_network.train()\n",
        "    optimizer = torch.optim.Adam(my_network.parameters(), lr=args.lr)\n",
        "    print('train_num_batches',loader.train_num_batches)\n",
        "    \n",
        "    num_batches=loader.train_num_batches\n",
        "    training_losses = []\n",
        "    for epoch in range(args.num_epochs):\n",
        "        loader.reset_batch_pointer()\n",
        "        # Initial state - 0\n",
        "        init_state = my_network.init_hidden(args.batch_size)\n",
        "        training_loss = 0\n",
        "\n",
        "        for batch in range(num_batches):\n",
        "            x, y = loader.next_batch_train()\n",
        "            x = torch.from_numpy(np.int64(x)).to(device)\n",
        "            y = Variable(torch.from_numpy(np.int64(y))).to(device)\n",
        "            preds, final_hidden = my_network(x, init_state)\n",
        "            train_loss_ = criterion(preds.reshape(-1, args.num_chars), y.reshape(-1))\n",
        "            optimizer.zero_grad()\n",
        "            train_loss_.backward()\n",
        "            optimizer.step()\n",
        "            training_loss += train_loss_.item()\n",
        "        training_loss=training_loss/num_batches\n",
        "        print('epoch:', epoch, 'loss:',  training_loss)\n",
        "        training_losses.append(training_loss)\n",
        "    torch.save(my_network.state_dict(), os.path.join(args.save_dir, f'saved_{celltype}_model.pt'))\n",
        "    end_time = time.time()\n",
        "    \n",
        "    timer(start_time, end_time)\n",
        "    return(training_losses)"
      ],
      "metadata": {
        "id": "WgVpWOHrefBx"
      },
      "execution_count": 207,
      "outputs": []
    },
    {
      "cell_type": "code",
      "source": [
        "print(device)\n",
        "args.num_epochs=20\n",
        "train_loss_rnn_para2 = trainer_3(\"RNN\")"
      ],
      "metadata": {
        "colab": {
          "base_uri": "https://localhost:8080/"
        },
        "id": "qoo_gj_Ye7-n",
        "outputId": "f132d2dc-3df8-4ffe-fd45-f4c05336f876"
      },
      "execution_count": null,
      "outputs": [
        {
          "output_type": "stream",
          "name": "stdout",
          "text": [
            "cuda:0\n",
            "train_num_batches 185\n",
            "epoch: 0 loss: 2.001990875037941\n",
            "epoch: 1 loss: 1.6459229424193098\n",
            "epoch: 2 loss: 1.556723385888177\n",
            "epoch: 3 loss: 1.508821995193894\n",
            "epoch: 4 loss: 1.477719023421004\n",
            "epoch: 5 loss: 1.4550898706590807\n",
            "epoch: 6 loss: 1.4376172884090526\n",
            "epoch: 7 loss: 1.4238671650757662\n",
            "epoch: 8 loss: 1.412510052887169\n",
            "epoch: 9 loss: 1.4029483543859946\n",
            "epoch: 10 loss: 1.3946485893146412\n",
            "epoch: 11 loss: 1.38747239821666\n",
            "epoch: 12 loss: 1.3810540476360837\n",
            "epoch: 13 loss: 1.3754697844788835\n",
            "epoch: 14 loss: 1.3702227141406085\n",
            "epoch: 15 loss: 1.365066452284117\n",
            "epoch: 16 loss: 1.36056141208958\n",
            "epoch: 17 loss: 1.3564126775071428\n",
            "epoch: 18 loss: 1.353119294063465\n",
            "epoch: 19 loss: 1.3504674801955352\n",
            "00 hours 03 minutes 59.00 seconds\n"
          ]
        }
      ]
    },
    {
      "cell_type": "code",
      "source": [
        "def Tester_3(celltype, num_batches=None):\n",
        "    my_network = network_3(celltype, args.num_chars, args.num_units, args.num_units)\n",
        "    my_network.load_state_dict(torch.load(os.path.join(args.save_dir, f'saved_{celltype}_model.pt')))\n",
        "    my_network.eval()\n",
        "    # Define initialization\n",
        "    initialization = 'Where are you going today?'\n",
        "    loader= TextLoader(args.data_dir, batch_size=args.batch_size, seq_length=args.num_steps)\n",
        "\n",
        "    forecast_data=np.array(list(map(loader.vocab_to_idx.get, initialization)))\n",
        "    print(forecast_data)\n",
        "    forecast_range = 100\n",
        "    top_k=5\n",
        " \n",
        "    if (num_batches is None):\n",
        "        num_batches=loader.test_num_batches\n",
        "   \n",
        "    state_ = my_network.init_hidden(args.batch_size)\n",
        "    loader.reset_batch_pointer()\n",
        "    # Get test error loss\n",
        "    test_loss = 0\n",
        "    print('num_batches',num_batches)\n",
        "    criterion = nn.CrossEntropyLoss()\n",
        "    with torch.no_grad():\n",
        "        for batch in range(num_batches):\n",
        "            x, y = loader.next_batch_test()\n",
        "            x = Variable(torch.from_numpy(np.int64(x)))\n",
        "            y = Variable(torch.from_numpy(np.int64(y)))\n",
        "            preds, final_hidden = my_network(x, state_)\n",
        "            test_loss_ = criterion(preds.reshape(-1, args.num_chars), y.reshape(-1))\n",
        "            test_loss += test_loss_.item()\n",
        "        test_loss=test_loss/num_batches\n",
        "        print('test loss:',  test_loss)\n",
        "    \n",
        "    return(test_loss)"
      ],
      "metadata": {
        "id": "KmVPnO4di39v"
      },
      "execution_count": null,
      "outputs": []
    },
    {
      "cell_type": "code",
      "source": [
        "test_loss_para2 = Tester_3(\"RNN\")"
      ],
      "metadata": {
        "colab": {
          "base_uri": "https://localhost:8080/"
        },
        "id": "cjBPzUgtjKFo",
        "outputId": "1437dcab-989d-4bdd-835b-c2d37ba4a1d3"
      },
      "execution_count": null,
      "outputs": [
        {
          "output_type": "stream",
          "name": "stdout",
          "text": [
            "[39  5  1  7  1  0  4  7  1  0 15  3 13  0 20  3  9  8 20  0  2  3 12  4\n",
            " 15 44]\n",
            "num_batches 47\n",
            "test loss: 1.4718445438019774\n"
          ]
        }
      ]
    },
    {
      "cell_type": "code",
      "source": [
        "fig, ax = plt.subplots()\n",
        "xep = list(range(20))\n",
        "\n",
        "ax.plot(xep, re_lstm_basic, color='blue', label='LSTM')\n",
        "ax.plot(xep, re_rnn_basic, color='green', label='RNN')\n",
        "ax.plot(xep, train_loss_rnn_dim, color='orange', label='RNN_dimension')\n",
        "ax.plot(xep, re_rnn_layer2, color='yellow', label='RNN_2_layer')\n",
        "ax.plot(xep, train_loss_rnn_para2, color='red', label='RNN_par*2')\n",
        "\n",
        "ax.set_xlabel('epoch')\n",
        "ax.set_ylabel('error')\n",
        "\n",
        "ax.legend()\n",
        "plt.show()"
      ],
      "metadata": {
        "colab": {
          "base_uri": "https://localhost:8080/",
          "height": 449
        },
        "id": "2wv8OvZwSMi-",
        "outputId": "b9f188db-d941-40b3-8a6d-68b522cebb80"
      },
      "execution_count": null,
      "outputs": [
        {
          "output_type": "display_data",
          "data": {
            "text/plain": [
              "<Figure size 640x480 with 1 Axes>"
            ],
            "image/png": "[encoded data removed]"
          },
          "metadata": {}
        }
      ]
    },
    {
      "cell_type": "markdown",
      "source": [
        "### (d) For each model, run a simulation starting with the same initialization text of your choice."
      ],
      "metadata": {
        "id": "6YoMFRV4x3mZ"
      }
    },
    {
      "cell_type": "markdown",
      "source": [
        "1. RNN with higher hidden dimension"
      ],
      "metadata": {
        "id": "4y8UQTaFqV_U"
      }
    },
    {
      "cell_type": "code",
      "source": [
        "Synthesize('RNN', \"I like spring better than winter!\")"
      ],
      "metadata": {
        "colab": {
          "base_uri": "https://localhost:8080/"
        },
        "id": "53GH2PxbqF0e",
        "outputId": "272fcb71-6b3a-469c-ad7d-a6184412aa9c"
      },
      "execution_count": 212,
      "outputs": [
        {
          "output_type": "stream",
          "name": "stdout",
          "text": [
            "I like spring better than winter!\n",
            "\n",
            "ANGELO:\n",
            "Which I speak,\n",
            "And that, that they be but out an eased thee, and transt\n",
            "Where was, and the\n"
          ]
        }
      ]
    },
    {
      "cell_type": "markdown",
      "source": [
        "2. RNN with one more hidden layer"
      ],
      "metadata": {
        "id": "TQtd87pEkkqV"
      }
    },
    {
      "cell_type": "code",
      "source": [
        "def Synthesize_2(celltype, init_string=\"None\"):\n",
        "    num_steps_bak=args.num_steps\n",
        "    batch_size_bak=args.batch_size\n",
        "    args.num_steps=1\n",
        "    args.batch_size=1\n",
        "    my_network = network_2(celltype, args.num_chars, args.num_units, args.num_units)\n",
        "    my_network.load_state_dict(torch.load(os.path.join(args.save_dir, f'saved_{celltype}_model.pt')))\n",
        "    my_network.eval()\n",
        "\n",
        "    # Define initialization\n",
        "    if (init_string is None):\n",
        "        initialization = 'Where are you going today?'\n",
        "    else:\n",
        "        initialization = init_string\n",
        "    loader= TextLoader(args.data_dir, batch_size=1, seq_length=1)\n",
        "\n",
        "    forecast_data=np.array(list(map(loader.vocab_to_idx.get, initialization)))\n",
        "    #print(forecast_data)\n",
        "    forecast_range = 100\n",
        "    top_k=5\n",
        " \n",
        "    # Run rnn on initialization data to get final hidden state before simulation\n",
        "    init_state = my_network.init_hidden(args.batch_size)\n",
        "    #print('data length',forecast_data.shape[0])\n",
        "    with torch.no_grad():\n",
        "        for i in range(forecast_data.shape[0]):\n",
        "            inputs = forecast_data[i].reshape(args.batch_size, args.num_steps)\n",
        "            x = Variable(torch.from_numpy(np.int64(inputs)))\n",
        "            _, state_ = my_network(x, init_state)\n",
        "\n",
        "        # last state of this step becomes first state of simulation\n",
        "\n",
        "        for i in range(forecast_range):\n",
        "            # Feed current predicted\n",
        "            inputs = forecast_data[-args.num_steps:].reshape(args.batch_size, args.num_steps)\n",
        "            x = Variable(torch.from_numpy(np.int64(inputs)))\n",
        "            logits_, state_ = my_network(x, state_)\n",
        "            predicted_prob = F.softmax(logits_.reshape(-1, args.num_chars),1).detach().numpy().squeeze()\n",
        "#             print(predicted_prob.shape)\n",
        "            # Simulate from top top_k probs\n",
        "            predicted_prob[np.argsort(predicted_prob)[:-top_k]] = 0\n",
        "            predicted_prob = predicted_prob/np.sum(predicted_prob)\n",
        "            sample = np.random.choice(args.num_chars, 1, p=predicted_prob)[0]\n",
        "            forecast_data = np.hstack((forecast_data, sample))\n",
        "\n",
        "    forecasted_chars = np.asarray([loader.idx_to_vocab[elem] for elem in forecast_data])\n",
        "\n",
        "    print(''.join(forecasted_chars))\n",
        "  \n",
        "    args.num_steps=num_steps_bak\n",
        "    args.batch_size=batch_size_bak"
      ],
      "metadata": {
        "id": "O6JxYRa6kpkX"
      },
      "execution_count": 206,
      "outputs": []
    },
    {
      "cell_type": "code",
      "source": [
        "Synthesize_2(\"RNN\", \"I like spring better than winter!\")"
      ],
      "metadata": {
        "colab": {
          "base_uri": "https://localhost:8080/"
        },
        "id": "FHoBE_vpk2gG",
        "outputId": "da0480bb-9b8e-43ea-908a-e03746484941"
      },
      "execution_count": 215,
      "outputs": [
        {
          "output_type": "stream",
          "name": "stdout",
          "text": [
            "I like spring better than winter!\n",
            "\n",
            "NARTIUS:\n",
            "What's the stones to hear is disproves are almost on a sir, the son and the secret my fat\n"
          ]
        }
      ]
    },
    {
      "cell_type": "markdown",
      "source": [
        "3. RNN with more parameters"
      ],
      "metadata": {
        "id": "gRqWE9BBhsDB"
      }
    },
    {
      "cell_type": "code",
      "source": [
        "def Synthesize_3(celltype, init_string=\"None\"):\n",
        "    num_steps_bak=args.num_steps\n",
        "    batch_size_bak=args.batch_size\n",
        "    args.num_steps=1\n",
        "    args.batch_size=1\n",
        "    my_network = network_3(celltype, args.num_chars, args.num_units, args.num_units)\n",
        "    my_network.load_state_dict(torch.load(os.path.join(args.save_dir, f'saved_{celltype}_model.pt')))\n",
        "    my_network.eval()\n",
        "\n",
        "    # Define initialization\n",
        "    if (init_string is None):\n",
        "        initialization = 'Where are you going today?'\n",
        "    else:\n",
        "        initialization = init_string\n",
        "    loader= TextLoader(args.data_dir, batch_size=1, seq_length=1)\n",
        "\n",
        "    forecast_data=np.array(list(map(loader.vocab_to_idx.get, initialization)))\n",
        "    #print(forecast_data)\n",
        "    forecast_range = 100\n",
        "    top_k=5\n",
        " \n",
        "    # Run rnn on initialization data to get final hidden state before simulation\n",
        "    init_state = my_network.init_hidden(args.batch_size)\n",
        "    #print('data length',forecast_data.shape[0])\n",
        "    with torch.no_grad():\n",
        "        for i in range(forecast_data.shape[0]):\n",
        "            inputs = forecast_data[i].reshape(args.batch_size, args.num_steps)\n",
        "            x = Variable(torch.from_numpy(np.int64(inputs)))\n",
        "            _, state_ = my_network(x, init_state)\n",
        "\n",
        "        # last state of this step becomes first state of simulation\n",
        "\n",
        "        for i in range(forecast_range):\n",
        "            # Feed current predicted\n",
        "            inputs = forecast_data[-args.num_steps:].reshape(args.batch_size, args.num_steps)\n",
        "            x = Variable(torch.from_numpy(np.int64(inputs)))\n",
        "            logits_, state_ = my_network(x, state_)\n",
        "            predicted_prob = F.softmax(logits_.reshape(-1, args.num_chars),1).detach().numpy().squeeze()\n",
        "#             print(predicted_prob.shape)\n",
        "            # Simulate from top top_k probs\n",
        "            predicted_prob[np.argsort(predicted_prob)[:-top_k]] = 0\n",
        "            predicted_prob = predicted_prob/np.sum(predicted_prob)\n",
        "            sample = np.random.choice(args.num_chars, 1, p=predicted_prob)[0]\n",
        "            forecast_data = np.hstack((forecast_data, sample))\n",
        "\n",
        "    forecasted_chars = np.asarray([loader.idx_to_vocab[elem] for elem in forecast_data])\n",
        "\n",
        "    print(''.join(forecasted_chars))\n",
        "  \n",
        "    args.num_steps=num_steps_bak\n",
        "    args.batch_size=batch_size_bak"
      ],
      "metadata": {
        "id": "G6aS370dkJrY"
      },
      "execution_count": 205,
      "outputs": []
    },
    {
      "cell_type": "code",
      "source": [
        "Synthesize_3(\"RNN\",\"I like spring better than winter!\")"
      ],
      "metadata": {
        "colab": {
          "base_uri": "https://localhost:8080/"
        },
        "id": "s49rxG5LW_QG",
        "outputId": "cbd8e0b1-420d-4c18-c5de-7dac8428eb75"
      },
      "execution_count": 213,
      "outputs": [
        {
          "output_type": "stream",
          "name": "stdout",
          "text": [
            "I like spring better than winter!\n",
            "\n",
            "NORFLY:\n",
            "No, not to sour with thy broken of a body or the crown.\n",
            "\n",
            "Second Clarence\n",
            "Is not be said th\n"
          ]
        }
      ]
    },
    {
      "cell_type": "markdown",
      "source": [
        "# Question 2 Classifying spoken digits\n",
        "\n",
        "### (a) Experiment with some of the RNN cells you used for the previous problem to process the speech data. The loss now is different. It is not predicting the data in the next time-step but just predicting the label of the utterance based on the value of the hidden layer at the last time-step. Report the results."
      ],
      "metadata": {
        "id": "sqmkNbSxzHj7"
      }
    },
    {
      "cell_type": "code",
      "source": [
        "with open(datadir+'SOUND_DATA_A', 'rb') as f: \n",
        "    data_voice = pickle.load(f)"
      ],
      "metadata": {
        "id": "wi4ib3-fzHFx"
      },
      "execution_count": null,
      "outputs": []
    },
    {
      "cell_type": "code",
      "source": [
        "data_voice.keys()"
      ],
      "metadata": {
        "colab": {
          "base_uri": "https://localhost:8080/"
        },
        "id": "081z-7ok2MjP",
        "outputId": "c25369cb-af22-41e2-8b36-d2661194f8d7"
      },
      "execution_count": null,
      "outputs": [
        {
          "output_type": "execute_result",
          "data": {
            "text/plain": [
              "dict_keys(['X_train_mfcc', 'X_train', 'Y_train', 'X_test_mfcc', 'X_test', 'Y_test', 'X_valid_mfcc', 'X_valid', 'Y_valid'])"
            ]
          },
          "metadata": {},
          "execution_count": 13
        }
      ]
    },
    {
      "cell_type": "code",
      "source": [
        "x_train = data_voice['X_train_mfcc']\n",
        "y_train = data_voice['Y_train']"
      ],
      "metadata": {
        "id": "1Lk-v5vS3W6l"
      },
      "execution_count": null,
      "outputs": []
    },
    {
      "cell_type": "code",
      "source": [
        "class Voice_RNN(nn.Module):\n",
        "    def __init__(self, input_size, hidden_size, num_classes):\n",
        "        super().__init__()\n",
        "        self.rnn_cell = MyBasicRNNCell(input_size, hidden_size)\n",
        "        self.classifier = nn.Linear(hidden_size, num_classes)\n",
        "        \n",
        "    def forward(self, x, h0):\n",
        "        hn = h0\n",
        "        for t in range(10):\n",
        "            hn, _ = self.rnn_cell(x[:, t, :], hn)\n",
        "        output = self.classifier(hn)\n",
        "        return output\n",
        "        "
      ],
      "metadata": {
        "id": "xnKWYJng3nMp"
      },
      "execution_count": null,
      "outputs": []
    },
    {
      "cell_type": "code",
      "source": [
        "def voice_trainer(model, epochs):\n",
        "    hidden_size = 256\n",
        "    num_classes = 10\n",
        "    batch_size = 60\n",
        "    num_batches = 25\n",
        "\n",
        "    num_batches = 25\n",
        "    x_train_batches = torch.chunk(torch.tensor(x_train), num_batches, dim=0)\n",
        "    y_train_batches = torch.chunk(torch.tensor(y_train), num_batches, dim=0)\n",
        "\n",
        "    optimizer = torch.optim.Adam(model.parameters(), lr=0.001)\n",
        "    loss_fn = nn.CrossEntropyLoss() # loss function\n",
        "    model.train()\n",
        "    loss = []\n",
        "\n",
        "    # Train the model\n",
        "    for epoch in range(epochs):\n",
        "        epoch_loss = 0\n",
        "        total_correct = 0\n",
        "        total_samples = 0\n",
        "        for i in range(len(x_train_batches)):\n",
        "            inputs = x_train_batches[i]\n",
        "            labels = y_train_batches[i].squeeze()\n",
        "            \n",
        "            # zero the gradients\n",
        "            optimizer.zero_grad()\n",
        "\n",
        "            # Initialize hidden states\n",
        "            h = torch.zeros(batch_size, hidden_size) # can change init\n",
        "\n",
        "            # forward pass\n",
        "            logits = model(inputs, h)\n",
        "\n",
        "            # compute loss and backward pass\n",
        "            loss = loss_fn(logits, labels.long())\n",
        "            loss.backward()\n",
        "            optimizer.step()\n",
        "\n",
        "            epoch_loss += loss.item()\n",
        "    \n",
        "        epoch_loss = epoch_loss / num_batches\n",
        "        if epoch % 5 == 0:\n",
        "            print('epoch:', epoch, 'loss:',  epoch_loss) \n",
        "        if epoch == (epochs-1): \n",
        "            print('epoch:', epoch, 'loss:',  epoch_loss)"
      ],
      "metadata": {
        "id": "OLWMlhZ84Idn"
      },
      "execution_count": null,
      "outputs": []
    },
    {
      "cell_type": "code",
      "source": [
        "model = Voice_RNN(64, 256, 10)\n",
        "voice_trainer(model, epochs = 100)"
      ],
      "metadata": {
        "colab": {
          "base_uri": "https://localhost:8080/"
        },
        "id": "JkdB17yCId7x",
        "outputId": "5c4008d7-7227-481f-998a-59711275d3de"
      },
      "execution_count": null,
      "outputs": [
        {
          "output_type": "stream",
          "name": "stdout",
          "text": [
            "epoch: 0 loss: 3.1307430267333984\n",
            "epoch: 5 loss: 2.3601307344436644\n",
            "epoch: 10 loss: 2.1620175886154174\n",
            "epoch: 15 loss: 2.11021909236908\n",
            "epoch: 20 loss: 1.85257022857666\n",
            "epoch: 25 loss: 1.6375627708435059\n",
            "epoch: 30 loss: 1.500589280128479\n",
            "epoch: 35 loss: 1.1860923552513123\n",
            "epoch: 40 loss: 1.3541005635261536\n",
            "epoch: 45 loss: 0.9417175996303558\n",
            "epoch: 50 loss: 0.843777921795845\n",
            "epoch: 55 loss: 0.8760370314121246\n",
            "epoch: 60 loss: 0.5260914772748947\n",
            "epoch: 65 loss: 0.6304879599809646\n",
            "epoch: 70 loss: 0.5556824183464051\n",
            "epoch: 75 loss: 0.22135214939713477\n",
            "epoch: 80 loss: 0.10782133087515831\n",
            "epoch: 85 loss: 0.07094825733453035\n",
            "epoch: 90 loss: 0.05179037395864725\n",
            "epoch: 95 loss: 0.03998998994007707\n",
            "epoch: 99 loss: 0.03349456150084734\n"
          ]
        }
      ]
    },
    {
      "cell_type": "markdown",
      "source": [
        "### (b) As an alternative, try simply training some of the standard linear classifiers in scikit-learn on the input 640 dimensional data. How do the results compare to the RNN results?"
      ],
      "metadata": {
        "id": "W8ZJNgKwJwuR"
      }
    },
    {
      "cell_type": "code",
      "source": [
        "x_train.shape\n",
        "x_train_rsp = x_train.reshape(1500,10*64)"
      ],
      "metadata": {
        "id": "HRUmcAIFmCaf"
      },
      "execution_count": null,
      "outputs": []
    },
    {
      "cell_type": "code",
      "source": [
        "from sklearn.datasets import make_classification\n",
        "from sklearn.model_selection import train_test_split\n",
        "from sklearn.linear_model import LogisticRegression\n",
        "from sklearn.metrics import log_loss\n",
        "\n",
        "model = LogisticRegression()\n",
        "model.fit(x_train_rsp, y_train)\n",
        "y_train_pred = model.predict_proba(x_train_rsp)\n",
        "\n",
        "train_loss = log_loss(y_train, y_train_pred)"
      ],
      "metadata": {
        "colab": {
          "base_uri": "https://localhost:8080/"
        },
        "id": "VKQP3vFvJs2B",
        "outputId": "7adaf319-ca55-4148-9dcb-54d18403eedb"
      },
      "execution_count": null,
      "outputs": [
        {
          "output_type": "stream",
          "name": "stderr",
          "text": [
            "/usr/local/lib/python3.10/dist-packages/sklearn/utils/validation.py:1143: DataConversionWarning: A column-vector y was passed when a 1d array was expected. Please change the shape of y to (n_samples, ), for example using ravel().\n",
            "  y = column_or_1d(y, warn=True)\n",
            "/usr/local/lib/python3.10/dist-packages/sklearn/linear_model/_logistic.py:458: ConvergenceWarning: lbfgs failed to converge (status=1):\n",
            "STOP: TOTAL NO. of ITERATIONS REACHED LIMIT.\n",
            "\n",
            "Increase the number of iterations (max_iter) or scale the data as shown in:\n",
            "    https://scikit-learn.org/stable/modules/preprocessing.html\n",
            "Please also refer to the documentation for alternative solver options:\n",
            "    https://scikit-learn.org/stable/modules/linear_model.html#logistic-regression\n",
            "  n_iter_i = _check_optimize_result(\n"
          ]
        }
      ]
    },
    {
      "cell_type": "code",
      "source": [
        "print(\"Training loss:\", train_loss)"
      ],
      "metadata": {
        "colab": {
          "base_uri": "https://localhost:8080/"
        },
        "id": "KgMuhLaTmN0V",
        "outputId": "e76c5c44-a32f-443b-8009-cba4ffcdd3e4"
      },
      "execution_count": null,
      "outputs": [
        {
          "output_type": "stream",
          "name": "stdout",
          "text": [
            "Training loss: 0.008094912863260823\n"
          ]
        }
      ]
    },
    {
      "cell_type": "markdown",
      "source": [
        "### (c) What is your conclusion from the comparison between the two approaches to classification.\n",
        "\n",
        "We see that using Linear classifier (here we use logistic regression) generates a smaller training loss than RNN with 100 epoches. It might be that RNN could perform better if we decide to further increase the number of epoches but it will take more computational power and longer time."
      ],
      "metadata": {
        "id": "VL2NpkvsmUGs"
      }
    }
  ],
  "metadata": {
    "accelerator": "GPU",
    "colab": {
      "provenance": [],
      "gpuType": "V100",
      "include_colab_link": true
    },
    "gpuClass": "premium",
    "kernelspec": {
      "display_name": "Python 3 (ipykernel)",
      "language": "python",
      "name": "python3"
    },
    "language_info": {
      "codemirror_mode": {
        "name": "ipython",
        "version": 3
      },
      "file_extension": ".py",
      "mimetype": "text/x-python",
      "name": "python",
      "nbconvert_exporter": "python",
      "pygments_lexer": "ipython3",
      "version": "3.9.6"
    }
  },
  "nbformat": 4,
  "nbformat_minor": 0
}